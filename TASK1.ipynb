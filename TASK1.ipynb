{
 "cells": [
  {
   "cell_type": "code",
   "execution_count": 1,
   "metadata": {},
   "outputs": [],
   "source": [
    "import numpy as np"
   ]
  },
  {
   "cell_type": "code",
   "execution_count": 7,
   "metadata": {},
   "outputs": [
    {
     "name": "stdout",
     "output_type": "stream",
     "text": [
      "1.16.2\n"
     ]
    }
   ],
   "source": [
    "print(np.__version__)"
   ]
  },
  {
   "cell_type": "code",
   "execution_count": 8,
   "metadata": {},
   "outputs": [
    {
     "data": {
      "text/plain": [
       "array([0., 0., 0., 0., 0., 0., 0., 0., 0., 0.])"
      ]
     },
     "execution_count": 8,
     "metadata": {},
     "output_type": "execute_result"
    }
   ],
   "source": [
    "np.zeros(10)"
   ]
  },
  {
   "cell_type": "code",
   "execution_count": 9,
   "metadata": {},
   "outputs": [
    {
     "name": "stdout",
     "output_type": "stream",
     "text": [
      "40 bytes\n"
     ]
    }
   ],
   "source": [
    "data1=np.zeros(5)\n",
    "size=data1.size*data1.itemsize\n",
    "print(\"%d bytes\"% size)"
   ]
  },
  {
   "cell_type": "code",
   "execution_count": 10,
   "metadata": {},
   "outputs": [
    {
     "name": "stdout",
     "output_type": "stream",
     "text": [
      "add(x1, x2, /, out=None, *, where=True, casting='same_kind', order='K', dtype=None, subok=True[, signature, extobj])\n",
      "\n",
      "Add arguments element-wise.\n",
      "\n",
      "Parameters\n",
      "----------\n",
      "x1, x2 : array_like\n",
      "    The arrays to be added.  If ``x1.shape != x2.shape``, they must be\n",
      "    broadcastable to a common shape (which may be the shape of one or\n",
      "    the other).\n",
      "out : ndarray, None, or tuple of ndarray and None, optional\n",
      "    A location into which the result is stored. If provided, it must have\n",
      "    a shape that the inputs broadcast to. If not provided or `None`,\n",
      "    a freshly-allocated array is returned. A tuple (possible only as a\n",
      "    keyword argument) must have length equal to the number of outputs.\n",
      "where : array_like, optional\n",
      "    Values of True indicate to calculate the ufunc at that position, values\n",
      "    of False indicate to leave the value in the output alone.\n",
      "**kwargs\n",
      "    For other keyword-only arguments, see the\n",
      "    :ref:`ufunc docs <ufuncs.kwargs>`.\n",
      "\n",
      "Returns\n",
      "-------\n",
      "add : ndarray or scalar\n",
      "    The sum of `x1` and `x2`, element-wise.\n",
      "    This is a scalar if both `x1` and `x2` are scalars.\n",
      "\n",
      "Notes\n",
      "-----\n",
      "Equivalent to `x1` + `x2` in terms of array broadcasting.\n",
      "\n",
      "Examples\n",
      "--------\n",
      ">>> np.add(1.0, 4.0)\n",
      "5.0\n",
      ">>> x1 = np.arange(9.0).reshape((3, 3))\n",
      ">>> x2 = np.arange(3.0)\n",
      ">>> np.add(x1, x2)\n",
      "array([[  0.,   2.,   4.],\n",
      "       [  3.,   5.,   7.],\n",
      "       [  6.,   8.,  10.]])\n"
     ]
    }
   ],
   "source": [
    "np.info(np.add)"
   ]
  },
  {
   "cell_type": "code",
   "execution_count": 11,
   "metadata": {},
   "outputs": [
    {
     "name": "stdout",
     "output_type": "stream",
     "text": [
      "[0. 0. 0. 0. 1. 0. 0. 0. 0. 0.]\n"
     ]
    }
   ],
   "source": [
    "data2=np.zeros(10)\n",
    "data2[4]=1\n",
    "print(data2)"
   ]
  },
  {
   "cell_type": "code",
   "execution_count": 12,
   "metadata": {},
   "outputs": [
    {
     "name": "stdout",
     "output_type": "stream",
     "text": [
      "[10 11 12 13 14 15 16 17 18 19 20 21 22 23 24 25 26 27 28 29 30 31 32 33\n",
      " 34 35 36 37 38 39 40 41 42 43 44 45 46 47 48 49]\n"
     ]
    }
   ],
   "source": [
    "data3=np.arange(10,50)\n",
    "print(data3)"
   ]
  },
  {
   "cell_type": "code",
   "execution_count": 13,
   "metadata": {},
   "outputs": [
    {
     "name": "stdout",
     "output_type": "stream",
     "text": [
      "[49 48 47 46 45 44 43 42 41 40 39 38 37 36 35 34 33 32 31 30 29 28 27 26\n",
      " 25 24 23 22 21 20 19 18 17 16 15 14 13 12 11 10]\n"
     ]
    }
   ],
   "source": [
    "data4=data3[::-1]\n",
    "print(data4)"
   ]
  },
  {
   "cell_type": "code",
   "execution_count": 14,
   "metadata": {},
   "outputs": [
    {
     "name": "stdout",
     "output_type": "stream",
     "text": [
      "[[0 1 2]\n",
      " [3 4 5]\n",
      " [6 7 8]]\n"
     ]
    }
   ],
   "source": [
    "data5=np.arange(0,9)\n",
    "data5=data5.reshape(3,3)\n",
    "print(data5)"
   ]
  },
  {
   "cell_type": "code",
   "execution_count": 15,
   "metadata": {},
   "outputs": [
    {
     "name": "stdout",
     "output_type": "stream",
     "text": [
      "(array([0, 1, 4], dtype=int64),)\n"
     ]
    }
   ],
   "source": [
    "n=np.nonzero([1,2,0,0,4,0])\n",
    "print(n)"
   ]
  },
  {
   "cell_type": "code",
   "execution_count": 16,
   "metadata": {},
   "outputs": [
    {
     "name": "stdout",
     "output_type": "stream",
     "text": [
      "[[1. 0. 0.]\n",
      " [0. 1. 0.]\n",
      " [0. 0. 1.]]\n"
     ]
    }
   ],
   "source": [
    "data6=np.eye(3)\n",
    "print(data6)"
   ]
  },
  {
   "cell_type": "code",
   "execution_count": 17,
   "metadata": {},
   "outputs": [
    {
     "name": "stdout",
     "output_type": "stream",
     "text": [
      "[[[0.88836865 0.74923593 0.98686662]\n",
      "  [0.91824259 0.43003068 0.16948376]\n",
      "  [0.7441283  0.03217326 0.76228266]]\n",
      "\n",
      " [[0.5975055  0.33817074 0.22428973]\n",
      "  [0.13683104 0.91861345 0.60364838]\n",
      "  [0.3558403  0.73724313 0.48681469]]\n",
      "\n",
      " [[0.22452693 0.35736937 0.58387597]\n",
      "  [0.72643154 0.39570504 0.36990371]\n",
      "  [0.51165116 0.612159   0.16474823]]]\n"
     ]
    }
   ],
   "source": [
    "data7=np.random.random((3,3,3))\n",
    "print(data7)"
   ]
  },
  {
   "cell_type": "code",
   "execution_count": 18,
   "metadata": {},
   "outputs": [
    {
     "name": "stdout",
     "output_type": "stream",
     "text": [
      "0.00032654276090571255\n",
      "0.9723801364672465\n"
     ]
    }
   ],
   "source": [
    "data8=np.random.random((10,10))\n",
    "data8_min=data8.min()\n",
    "data8_max=data8.max()\n",
    "print(data8_min)\n",
    "print(data8_max)"
   ]
  },
  {
   "cell_type": "code",
   "execution_count": 19,
   "metadata": {},
   "outputs": [
    {
     "name": "stdout",
     "output_type": "stream",
     "text": [
      "0.5064078733293719\n"
     ]
    }
   ],
   "source": [
    "data9=np.random.random(30)\n",
    "data9_mean=data9.mean()\n",
    "print(data9_mean)"
   ]
  },
  {
   "cell_type": "code",
   "execution_count": 20,
   "metadata": {},
   "outputs": [
    {
     "name": "stdout",
     "output_type": "stream",
     "text": [
      "[[1. 1. 1. 1. 1.]\n",
      " [1. 0. 0. 0. 1.]\n",
      " [1. 0. 0. 0. 1.]\n",
      " [1. 0. 0. 0. 1.]\n",
      " [1. 1. 1. 1. 1.]]\n"
     ]
    }
   ],
   "source": [
    "data10=np.ones((5,5))\n",
    "data10[1:-1,1:-1]=0\n",
    "print(data10)"
   ]
  },
  {
   "cell_type": "code",
   "execution_count": 21,
   "metadata": {},
   "outputs": [
    {
     "name": "stdout",
     "output_type": "stream",
     "text": [
      "[[0.00000000e+00 0.00000000e+00 0.00000000e+00 0.00000000e+00\n",
      "  0.00000000e+00 0.00000000e+00 0.00000000e+00 0.00000000e+00\n",
      "  0.00000000e+00 0.00000000e+00 0.00000000e+00 0.00000000e+00]\n",
      " [0.00000000e+00 1.94866472e-01 9.43315791e-02 8.44246216e-01\n",
      "  7.71731131e-02 6.12881265e-01 2.14407573e-01 5.11537451e-01\n",
      "  5.88810579e-01 7.44567355e-01 4.24420428e-01 0.00000000e+00]\n",
      " [0.00000000e+00 7.69821024e-01 5.17292490e-01 5.61184325e-01\n",
      "  8.36840998e-01 3.40629630e-01 2.64602107e-01 4.89262670e-01\n",
      "  2.15229863e-01 4.34262240e-01 1.46297261e-01 0.00000000e+00]\n",
      " [0.00000000e+00 1.12418777e-01 3.79327421e-01 2.53246330e-02\n",
      "  3.63219244e-01 7.23077141e-01 3.39526907e-01 8.31770486e-01\n",
      "  5.91178807e-01 3.93910806e-01 4.20736434e-01 0.00000000e+00]\n",
      " [0.00000000e+00 8.59874609e-01 4.24654614e-01 5.50707140e-01\n",
      "  1.12794384e-01 9.72380136e-01 2.88477752e-01 8.42703385e-02\n",
      "  3.04407649e-01 6.30712093e-02 7.01371866e-01 0.00000000e+00]\n",
      " [0.00000000e+00 2.62687497e-01 4.39053672e-01 1.37141238e-01\n",
      "  5.33762588e-01 7.82731761e-01 3.84527523e-01 8.91122895e-01\n",
      "  6.23295595e-01 3.79334477e-01 2.41322744e-01 0.00000000e+00]\n",
      " [0.00000000e+00 7.03654614e-01 5.83218283e-01 2.64325685e-01\n",
      "  7.47897064e-01 7.62155683e-01 6.29021628e-01 4.44207141e-01\n",
      "  5.70935386e-01 3.97504218e-02 8.01549045e-01 0.00000000e+00]\n",
      " [0.00000000e+00 8.40653339e-01 5.22870252e-01 2.70229638e-01\n",
      "  3.86872243e-01 5.21298437e-01 7.68561721e-01 1.78248618e-01\n",
      "  9.46773370e-01 3.12152295e-01 8.58244642e-01 0.00000000e+00]\n",
      " [0.00000000e+00 1.02234652e-01 1.66171729e-01 2.86921909e-01\n",
      "  2.88212953e-01 3.65535074e-01 7.77994253e-01 9.07438920e-01\n",
      "  8.68908850e-01 6.06250497e-01 2.22364647e-01 0.00000000e+00]\n",
      " [0.00000000e+00 5.54154439e-01 9.55188198e-01 9.17070488e-01\n",
      "  5.10542270e-01 1.24877967e-01 5.35661788e-01 2.88705713e-01\n",
      "  2.06400490e-01 1.15885105e-01 3.26542761e-04 0.00000000e+00]\n",
      " [0.00000000e+00 3.75120976e-02 4.81632434e-01 9.60654821e-01\n",
      "  1.94329646e-01 5.46867781e-01 8.53753022e-01 9.34002694e-01\n",
      "  8.80266399e-01 4.24099665e-03 7.82953324e-01 0.00000000e+00]\n",
      " [0.00000000e+00 0.00000000e+00 0.00000000e+00 0.00000000e+00\n",
      "  0.00000000e+00 0.00000000e+00 0.00000000e+00 0.00000000e+00\n",
      "  0.00000000e+00 0.00000000e+00 0.00000000e+00 0.00000000e+00]]\n"
     ]
    }
   ],
   "source": [
    "data11=np.pad(data8,pad_width=1,mode='constant',constant_values=0)\n",
    "print(data11)"
   ]
  },
  {
   "cell_type": "code",
   "execution_count": 22,
   "metadata": {},
   "outputs": [
    {
     "name": "stdout",
     "output_type": "stream",
     "text": [
      "nan\n",
      "nan\n",
      "False\n",
      "nan\n",
      "False\n"
     ]
    }
   ],
   "source": [
    "data12=np.nan\n",
    "print(data12)\n",
    "print(0*np.nan)\n",
    "print(np.nan==np.nan)\n",
    "print(np.nan-np.nan)\n",
    "print(0.3==3*0.1)"
   ]
  },
  {
   "cell_type": "code",
   "execution_count": 23,
   "metadata": {},
   "outputs": [
    {
     "name": "stdout",
     "output_type": "stream",
     "text": [
      "[[0 0 0 0 0]\n",
      " [1 0 0 0 0]\n",
      " [0 2 0 0 0]\n",
      " [0 0 3 0 0]\n",
      " [0 0 0 4 0]]\n"
     ]
    }
   ],
   "source": [
    "data13=np.diag(1+np.arange(4),k=-1)  ##这里k=-1,相当于对角线的值向下平移一个单位\n",
    "print(data13)"
   ]
  },
  {
   "cell_type": "code",
   "execution_count": 24,
   "metadata": {},
   "outputs": [
    {
     "name": "stdout",
     "output_type": "stream",
     "text": [
      "[[0 1 0 1 0 1 0 1]\n",
      " [1 0 1 0 1 0 1 0]\n",
      " [0 1 0 1 0 1 0 1]\n",
      " [1 0 1 0 1 0 1 0]\n",
      " [0 1 0 1 0 1 0 1]\n",
      " [1 0 1 0 1 0 1 0]\n",
      " [0 1 0 1 0 1 0 1]\n",
      " [1 0 1 0 1 0 1 0]]\n"
     ]
    }
   ],
   "source": [
    "data14=np.zeros((8,8),dtype=int)\n",
    "data14[1::2,::2]=1\n",
    "data14[::2,1::2]=1\n",
    "print(data14)"
   ]
  },
  {
   "cell_type": "code",
   "execution_count": 25,
   "metadata": {},
   "outputs": [
    {
     "name": "stdout",
     "output_type": "stream",
     "text": [
      "[[[6.85583884e-01 6.67402822e-01 1.77735789e-01 5.75888535e-01\n",
      "   2.37270875e-01 2.76364814e-01 3.41472997e-01 7.36387132e-01]\n",
      "  [1.41845070e-01 2.01808706e-01 3.54756798e-01 7.84250140e-02\n",
      "   5.73020805e-01 7.75715386e-01 2.56657658e-01 1.38210221e-01]\n",
      "  [8.50422078e-01 8.88368165e-01 7.27490873e-01 2.22587175e-02\n",
      "   4.30815741e-01 8.45111541e-01 1.94198927e-01 3.44575472e-01]\n",
      "  [6.58489987e-01 4.38023338e-01 7.33066656e-04 4.03661856e-01\n",
      "   7.48498782e-02 8.32040665e-01 5.24390569e-01 4.72325074e-01]\n",
      "  [3.56607540e-01 7.72876698e-02 3.72995252e-01 3.57426664e-01\n",
      "   5.46129375e-01 3.79117875e-01 6.31685041e-01 3.60168924e-02]\n",
      "  [3.78699649e-01 3.29794088e-01 2.36798992e-01 4.30713752e-01\n",
      "   8.32522225e-01 8.21715019e-01 3.73826656e-01 6.75925160e-01]\n",
      "  [1.05921420e-01 1.68062062e-01 5.39072778e-01 4.13087963e-01\n",
      "   3.26748251e-01 3.41901627e-01 9.66652716e-02 2.60066306e-01]]\n",
      "\n",
      " [[4.36091684e-01 8.85655707e-01 9.46156282e-02 1.32144402e-01\n",
      "   3.83647440e-01 1.04105108e-01 7.42709532e-01 8.48525719e-01]\n",
      "  [1.70612272e-01 1.60538541e-01 9.87562660e-01 7.31172359e-01\n",
      "   4.30514611e-01 4.45604263e-01 5.78695462e-01 4.21609944e-01]\n",
      "  [4.67835568e-01 4.93371345e-01 5.86057319e-01 3.73965640e-01\n",
      "   5.97952030e-01 9.66319703e-01 5.69062800e-01 4.16290505e-01]\n",
      "  [7.24079512e-01 4.17760685e-02 1.73360514e-01 9.98404442e-01\n",
      "   1.81893459e-01 9.45654477e-01 1.75699195e-01 1.14508469e-02]\n",
      "  [1.19878265e-01 3.35938932e-01 9.48413841e-01 9.88692495e-01\n",
      "   7.72713227e-01 6.44295907e-01 4.00795602e-01 1.47717524e-01]\n",
      "  [1.38017128e-01 1.04413935e-01 3.57525265e-02 4.10313204e-01\n",
      "   9.23662796e-01 3.88341661e-01 6.69860371e-01 9.48239385e-01]\n",
      "  [1.66170923e-01 2.31738107e-01 5.94532599e-01 2.79945758e-02\n",
      "   3.14425337e-01 7.45183477e-01 9.75843534e-01 4.90868491e-01]]\n",
      "\n",
      " [[6.19121650e-01 8.73965008e-01 5.78254443e-01 4.46740423e-01\n",
      "   3.40685627e-02 8.61532928e-01 6.65183008e-01 1.08564226e-01]\n",
      "  [4.38641356e-01 2.92495072e-01 9.70205522e-01 4.67058104e-01\n",
      "   3.03328964e-02 4.74197407e-01 5.85986111e-01 9.92224744e-01]\n",
      "  [5.08568200e-01 3.39224442e-01 5.85037072e-01 6.22152369e-01\n",
      "   1.89957011e-01 1.27150709e-01 4.27067875e-01 2.93662404e-01]\n",
      "  [9.05656892e-01 2.96802257e-01 3.61555138e-01 1.94507289e-01\n",
      "   4.90513020e-01 8.05139978e-01 5.62581542e-01 1.24971830e-01]\n",
      "  [3.00156356e-01 1.06516668e-01 5.28573201e-01 4.29832040e-01\n",
      "   3.51727759e-01 1.26277571e-01 6.66110085e-01 7.49744469e-01]\n",
      "  [7.23281544e-01 5.26849621e-01 5.53549150e-01 2.14307213e-01\n",
      "   9.19764140e-01 2.86206001e-01 7.39534868e-01 4.37473702e-01]\n",
      "  [8.93905837e-01 3.44087458e-01 1.26556910e-01 2.50447612e-01\n",
      "   3.24168301e-01 2.39093581e-01 5.16107708e-01 8.70129948e-01]]\n",
      "\n",
      " [[3.81115420e-01 2.41084588e-01 7.90607397e-01 6.21637326e-01\n",
      "   2.34236443e-01 5.09191004e-01 8.78144879e-01 9.50494709e-02]\n",
      "  [5.85484762e-01 5.44288868e-01 1.87226621e-01 5.31161252e-01\n",
      "   5.27686816e-02 3.51974715e-01 6.63398725e-01 2.89647852e-01]\n",
      "  [2.99122461e-01 5.91576474e-01 6.81717033e-02 2.42342298e-01\n",
      "   7.71835999e-01 2.87735913e-01 7.81121713e-01 2.44058279e-01]\n",
      "  [7.56820407e-01 6.42083876e-01 3.79865250e-01 4.09435817e-01\n",
      "   2.78433207e-01 6.05149262e-01 1.04798518e-01 2.13091574e-01]\n",
      "  [8.53180973e-01 4.42856377e-01 7.01419919e-01 7.65270608e-01\n",
      "   2.84964423e-01 8.58348725e-01 1.74999485e-02 8.97168946e-01]\n",
      "  [5.48709150e-01 7.12200270e-01 8.17387781e-01 1.98988028e-01\n",
      "   2.22906137e-01 4.46531307e-01 4.08278134e-01 6.56075676e-01]\n",
      "  [2.52851501e-01 5.81294896e-01 1.46221955e-01 7.15248004e-01\n",
      "   8.52429898e-01 4.00615843e-01 8.97356624e-01 9.73084822e-01]]\n",
      "\n",
      " [[8.98953526e-02 7.84266620e-01 4.36191828e-01 2.48217038e-01\n",
      "   4.46563525e-01 7.68774735e-01 8.63561070e-01 3.41968847e-01]\n",
      "  [7.50907182e-01 4.76930140e-02 5.00801581e-01 3.85274258e-01\n",
      "   5.00048390e-01 2.87130093e-01 3.15485620e-02 8.92660286e-01]\n",
      "  [6.75581994e-01 4.64191010e-01 8.34732469e-01 9.54830897e-01\n",
      "   4.56728514e-01 8.87307106e-01 1.43371300e-01 9.99940998e-01]\n",
      "  [9.84324886e-01 6.37495580e-01 5.97156855e-01 4.95092631e-01\n",
      "   4.03068046e-01 4.81712234e-01 4.06373083e-01 6.32986752e-01]\n",
      "  [5.68838787e-01 4.63907083e-01 8.14440745e-02 6.46586850e-01\n",
      "   5.72946373e-02 5.58792237e-01 8.24648455e-01 9.25248378e-01]\n",
      "  [6.99740238e-02 6.68407462e-01 1.31357363e-01 2.20781784e-02\n",
      "   6.21648737e-02 3.34805487e-02 1.58207658e-01 4.39300345e-01]\n",
      "  [9.35701342e-01 8.38592100e-02 3.35024489e-01 6.64852824e-01\n",
      "   3.41294628e-01 5.24497357e-01 9.17369469e-01 5.58299764e-01]]\n",
      "\n",
      " [[7.71893900e-01 4.17987092e-01 2.39143461e-01 5.41006976e-02\n",
      "   7.72973106e-01 3.13875373e-02 8.33482151e-01 4.38612196e-01]\n",
      "  [3.14070116e-01 6.77211763e-01 5.28318024e-01 3.53725665e-01\n",
      "   6.65739985e-01 5.56328138e-01 6.25189174e-01 9.50399094e-01]\n",
      "  [3.54372690e-01 7.98288567e-02 6.18250609e-01 5.12529305e-01\n",
      "   1.52375918e-01 8.36793373e-01 7.01288687e-01 9.16148578e-01]\n",
      "  [2.77583624e-01 4.82504495e-02 3.55155754e-01 9.82681862e-01\n",
      "   6.04362990e-01 3.59351154e-01 2.16229546e-01 2.07360303e-01]\n",
      "  [1.99698231e-01 9.76689457e-01 5.62776173e-02 9.18784719e-01\n",
      "   2.17936799e-01 2.10612784e-01 2.18104605e-01 5.27321049e-01]\n",
      "  [5.06216296e-01 2.82845925e-01 9.98393360e-01 6.15123130e-01\n",
      "   1.29676623e-01 9.74664653e-01 6.47378916e-01 1.51045188e-02]\n",
      "  [6.83930993e-01 2.91901901e-01 8.25607079e-01 1.31009193e-01\n",
      "   9.58461670e-01 8.56837478e-01 8.81278550e-01 3.72160450e-04]]]\n",
      "(0, 1, 2)\n"
     ]
    }
   ],
   "source": [
    "data15=np.random.random((6,7,8))\n",
    "print(data15)\n",
    "print(np.unravel_index(10,(6,7,8)))"
   ]
  },
  {
   "cell_type": "code",
   "execution_count": 26,
   "metadata": {},
   "outputs": [
    {
     "name": "stdout",
     "output_type": "stream",
     "text": [
      "[[0 1 0 1 0 1 0 1]\n",
      " [1 0 1 0 1 0 1 0]\n",
      " [0 1 0 1 0 1 0 1]\n",
      " [1 0 1 0 1 0 1 0]\n",
      " [0 1 0 1 0 1 0 1]\n",
      " [1 0 1 0 1 0 1 0]\n",
      " [0 1 0 1 0 1 0 1]\n",
      " [1 0 1 0 1 0 1 0]]\n"
     ]
    }
   ],
   "source": [
    "data16=np.tile(np.array([[0,1],[1,0]]),(4,4))\n",
    "print(data16)"
   ]
  },
  {
   "cell_type": "code",
   "execution_count": 27,
   "metadata": {},
   "outputs": [
    {
     "name": "stdout",
     "output_type": "stream",
     "text": [
      "[[0.69260252 0.94460147 0.13408655 0.21050972 0.05569189]\n",
      " [0.34751509 0.94278717 0.44530239 0.6497592  0.95454704]\n",
      " [0.05247379 0.60993657 0.85042294 0.05862845 0.17978379]\n",
      " [0.         0.57535034 0.80551787 0.1640576  0.24838351]\n",
      " [0.89514974 0.01294938 1.         0.09993358 0.88083738]]\n"
     ]
    }
   ],
   "source": [
    "data17=np.random.random((5,5))\n",
    "data17_min,data17_max=data17.min(),data17.max()\n",
    "data17_normal=(data17-data17_min)/(data17_max-data17_min)\n",
    "print(data17_normal)"
   ]
  },
  {
   "cell_type": "code",
   "execution_count": 28,
   "metadata": {},
   "outputs": [
    {
     "name": "stdout",
     "output_type": "stream",
     "text": [
      "[('R', 'u1'), ('G', 'u1'), ('B', 'u1'), ('A', 'u1')]\n"
     ]
    }
   ],
   "source": [
    "color=np.dtype([('R',np.ubyte,1),\n",
    "               ('G',np.ubyte,1),\n",
    "               ('B',np.ubyte,1),\n",
    "               ('A',np.ubyte,1)])\n",
    "print(color)"
   ]
  },
  {
   "cell_type": "code",
   "execution_count": 29,
   "metadata": {},
   "outputs": [
    {
     "name": "stdout",
     "output_type": "stream",
     "text": [
      "[[ 1  2  3]\n",
      " [ 4  5  6]\n",
      " [ 7  8  9]\n",
      " [10 11 12]\n",
      " [13 14 15]]\n",
      "[[ 58  64]\n",
      " [139 154]\n",
      " [220 244]\n",
      " [301 334]\n",
      " [382 424]]\n"
     ]
    }
   ],
   "source": [
    "matrix1=np.arange(1,16).reshape(5,3)\n",
    "print(matrix1)\n",
    "matrix2=np.arange(7,13).reshape(3,2)\n",
    "matrix=np.dot(matrix1,matrix2)\n",
    "print(matrix)"
   ]
  },
  {
   "cell_type": "code",
   "execution_count": 30,
   "metadata": {},
   "outputs": [
    {
     "name": "stdout",
     "output_type": "stream",
     "text": [
      "[ 1  2 -3 -4 -5 -6 -7 -8  9]\n"
     ]
    }
   ],
   "source": [
    "data18=np.arange(1,10)\n",
    "data18[(3<=data18)&(data18<=8)]*=-1\n",
    "print(data18)"
   ]
  },
  {
   "cell_type": "code",
   "execution_count": 31,
   "metadata": {},
   "outputs": [
    {
     "name": "stdout",
     "output_type": "stream",
     "text": [
      "9\n",
      "10\n"
     ]
    }
   ],
   "source": [
    "print(sum(range(5),-1))\n",
    "from numpy import *\n",
    "print(sum(range(5),-1))"
   ]
  },
  {
   "cell_type": "code",
   "execution_count": 32,
   "metadata": {},
   "outputs": [
    {
     "name": "stdout",
     "output_type": "stream",
     "text": [
      "[1 1 4]\n",
      "[0 1 2]\n",
      "[False False False]\n",
      "[0.+0.j 0.+1.j 0.+2.j]\n",
      "[0. 1. 2.]\n"
     ]
    },
    {
     "ename": "ValueError",
     "evalue": "The truth value of an array with more than one element is ambiguous. Use a.any() or a.all()",
     "output_type": "error",
     "traceback": [
      "\u001b[1;31m---------------------------------------------------------------------------\u001b[0m",
      "\u001b[1;31mValueError\u001b[0m                                Traceback (most recent call last)",
      "\u001b[1;32m<ipython-input-32-e2d18c3f58c0>\u001b[0m in \u001b[0;36m<module>\u001b[1;34m\u001b[0m\n\u001b[0;32m      5\u001b[0m \u001b[0mprint\u001b[0m\u001b[1;33m(\u001b[0m\u001b[1;36m1j\u001b[0m\u001b[1;33m*\u001b[0m\u001b[0mdata18\u001b[0m\u001b[1;33m)\u001b[0m\u001b[1;33m\u001b[0m\u001b[1;33m\u001b[0m\u001b[0m\n\u001b[0;32m      6\u001b[0m \u001b[0mprint\u001b[0m\u001b[1;33m(\u001b[0m\u001b[0mdata18\u001b[0m\u001b[1;33m/\u001b[0m\u001b[1;36m1\u001b[0m\u001b[1;33m/\u001b[0m\u001b[1;36m1\u001b[0m\u001b[1;33m)\u001b[0m\u001b[1;33m\u001b[0m\u001b[1;33m\u001b[0m\u001b[0m\n\u001b[1;32m----> 7\u001b[1;33m \u001b[0mprint\u001b[0m\u001b[1;33m(\u001b[0m\u001b[0mdata18\u001b[0m\u001b[1;33m<\u001b[0m\u001b[0mdata18\u001b[0m\u001b[1;33m>\u001b[0m\u001b[0mdata18\u001b[0m\u001b[1;33m)\u001b[0m\u001b[1;33m\u001b[0m\u001b[1;33m\u001b[0m\u001b[0m\n\u001b[0m",
      "\u001b[1;31mValueError\u001b[0m: The truth value of an array with more than one element is ambiguous. Use a.any() or a.all()"
     ]
    }
   ],
   "source": [
    "data18=np.arange(3)\n",
    "print(data18**data18)\n",
    "print(2<<data18>>2)\n",
    "print(data18<-data18)\n",
    "print(1j*data18)\n",
    "print(data18/1/1)\n",
    "print(data18<data18>data18)"
   ]
  },
  {
   "cell_type": "code",
   "execution_count": 33,
   "metadata": {},
   "outputs": [
    {
     "name": "stdout",
     "output_type": "stream",
     "text": [
      "nan\n",
      "0\n"
     ]
    },
    {
     "name": "stderr",
     "output_type": "stream",
     "text": [
      "C:\\Users\\why\\Anaconda3\\lib\\site-packages\\ipykernel_launcher.py:1: RuntimeWarning: invalid value encountered in true_divide\n",
      "  \"\"\"Entry point for launching an IPython kernel.\n",
      "C:\\Users\\why\\Anaconda3\\lib\\site-packages\\ipykernel_launcher.py:2: RuntimeWarning: divide by zero encountered in floor_divide\n",
      "  \n"
     ]
    },
    {
     "ename": "TypeError",
     "evalue": "'builtin_function_or_method' object is not subscriptable",
     "output_type": "error",
     "traceback": [
      "\u001b[1;31m---------------------------------------------------------------------------\u001b[0m",
      "\u001b[1;31mTypeError\u001b[0m                                 Traceback (most recent call last)",
      "\u001b[1;32m<ipython-input-33-66d1caafab2e>\u001b[0m in \u001b[0;36m<module>\u001b[1;34m\u001b[0m\n\u001b[0;32m      1\u001b[0m \u001b[0mprint\u001b[0m\u001b[1;33m(\u001b[0m\u001b[0mnp\u001b[0m\u001b[1;33m.\u001b[0m\u001b[0marray\u001b[0m\u001b[1;33m(\u001b[0m\u001b[1;36m0\u001b[0m\u001b[1;33m)\u001b[0m\u001b[1;33m/\u001b[0m\u001b[0mnp\u001b[0m\u001b[1;33m.\u001b[0m\u001b[0marray\u001b[0m\u001b[1;33m(\u001b[0m\u001b[1;36m0\u001b[0m\u001b[1;33m)\u001b[0m\u001b[1;33m)\u001b[0m\u001b[1;33m\u001b[0m\u001b[1;33m\u001b[0m\u001b[0m\n\u001b[0;32m      2\u001b[0m \u001b[0mprint\u001b[0m\u001b[1;33m(\u001b[0m\u001b[0mnp\u001b[0m\u001b[1;33m.\u001b[0m\u001b[0marray\u001b[0m\u001b[1;33m(\u001b[0m\u001b[1;36m0\u001b[0m\u001b[1;33m)\u001b[0m\u001b[1;33m//\u001b[0m\u001b[0mnp\u001b[0m\u001b[1;33m.\u001b[0m\u001b[0marray\u001b[0m\u001b[1;33m(\u001b[0m\u001b[1;36m0\u001b[0m\u001b[1;33m)\u001b[0m\u001b[1;33m)\u001b[0m\u001b[1;33m\u001b[0m\u001b[1;33m\u001b[0m\u001b[0m\n\u001b[1;32m----> 3\u001b[1;33m \u001b[0mprint\u001b[0m\u001b[1;33m(\u001b[0m\u001b[0mnp\u001b[0m\u001b[1;33m.\u001b[0m\u001b[0marray\u001b[0m\u001b[1;33m[\u001b[0m\u001b[0mnp\u001b[0m\u001b[1;33m.\u001b[0m\u001b[0mnan\u001b[0m\u001b[1;33m]\u001b[0m\u001b[1;33m)\u001b[0m\u001b[1;33m.\u001b[0m\u001b[0mastype\u001b[0m\u001b[1;33m(\u001b[0m\u001b[0mint\u001b[0m\u001b[1;33m)\u001b[0m\u001b[1;33m.\u001b[0m\u001b[0mastype\u001b[0m\u001b[1;33m(\u001b[0m\u001b[0mfloat\u001b[0m\u001b[1;33m)\u001b[0m\u001b[1;33m\u001b[0m\u001b[1;33m\u001b[0m\u001b[0m\n\u001b[0m",
      "\u001b[1;31mTypeError\u001b[0m: 'builtin_function_or_method' object is not subscriptable"
     ]
    }
   ],
   "source": [
    "print(np.array(0)/np.array(0))\n",
    "print(np.array(0)//np.array(0))\n",
    "print(np.array[np.nan]).astype(int).astype(float)"
   ]
  },
  {
   "cell_type": "code",
   "execution_count": 34,
   "metadata": {},
   "outputs": [
    {
     "name": "stdout",
     "output_type": "stream",
     "text": [
      "[-7.63821127  0.7757847   5.55946227  5.21460337 -8.83009357 -2.66121099\n",
      "  8.97332234  9.02471281  9.87965486  0.65746599]\n",
      "[-8.  1.  6.  6. -9. -3.  9. 10. 10.  1.]\n"
     ]
    }
   ],
   "source": [
    "data=np.random.uniform(-10,+10,10)\n",
    "print(data)\n",
    "print(np.copysign(np.ceil(np.abs(data)),data))"
   ]
  },
  {
   "cell_type": "code",
   "execution_count": 35,
   "metadata": {},
   "outputs": [
    {
     "name": "stdout",
     "output_type": "stream",
     "text": [
      "[6 7 8 9]\n"
     ]
    }
   ],
   "source": [
    "data1=np.arange(1,10)\n",
    "data2=np.arange(6,15)\n",
    "data=np.intersect1d(data1,data2)\n",
    "print(data)"
   ]
  },
  {
   "cell_type": "code",
   "execution_count": 37,
   "metadata": {},
   "outputs": [],
   "source": [
    "defaults=np.seterr(all='ignore')\n",
    "data=np.zeros(5)/0\n",
    "_=np.seterr(**defaults)"
   ]
  },
  {
   "cell_type": "code",
   "execution_count": 38,
   "metadata": {},
   "outputs": [
    {
     "name": "stdout",
     "output_type": "stream",
     "text": [
      "False\n"
     ]
    },
    {
     "name": "stderr",
     "output_type": "stream",
     "text": [
      "C:\\Users\\why\\Anaconda3\\lib\\site-packages\\ipykernel_launcher.py:1: RuntimeWarning: invalid value encountered in sqrt\n",
      "  \"\"\"Entry point for launching an IPython kernel.\n"
     ]
    }
   ],
   "source": [
    "print(np.sqrt(-1)==np.emath.sqrt(-1))"
   ]
  },
  {
   "cell_type": "code",
   "execution_count": 39,
   "metadata": {},
   "outputs": [
    {
     "name": "stdout",
     "output_type": "stream",
     "text": [
      "yesterday is 2019-08-07\n",
      "toady is 2019-08-08\n",
      "tomorrow is 2019-08-09\n"
     ]
    }
   ],
   "source": [
    "yesterday=np.datetime64('today','D')-np.timedelta64(1,'D')\n",
    "today=np.datetime64('today','D')\n",
    "tomorrow=np.datetime64('today','D')+np.timedelta64(1,'D')\n",
    "print('yesterday is '+str(yesterday))\n",
    "print('toady is '+str(today))\n",
    "print('tomorrow is '+str(tomorrow))"
   ]
  },
  {
   "cell_type": "code",
   "execution_count": 40,
   "metadata": {},
   "outputs": [
    {
     "name": "stdout",
     "output_type": "stream",
     "text": [
      "['2016-07-01' '2016-07-02' '2016-07-03' '2016-07-04' '2016-07-05'\n",
      " '2016-07-06' '2016-07-07' '2016-07-08' '2016-07-09' '2016-07-10'\n",
      " '2016-07-11' '2016-07-12' '2016-07-13' '2016-07-14' '2016-07-15'\n",
      " '2016-07-16' '2016-07-17' '2016-07-18' '2016-07-19' '2016-07-20'\n",
      " '2016-07-21' '2016-07-22' '2016-07-23' '2016-07-24' '2016-07-25'\n",
      " '2016-07-26' '2016-07-27' '2016-07-28' '2016-07-29' '2016-07-30'\n",
      " '2016-07-31']\n"
     ]
    }
   ],
   "source": [
    "data=np.arange('2016-07','2016-08',dtype='datetime64[D]')\n",
    "print(data)"
   ]
  },
  {
   "cell_type": "code",
   "execution_count": 41,
   "metadata": {},
   "outputs": [
    {
     "data": {
      "text/plain": [
       "array([-1.5, -1.5, -1.5])"
      ]
     },
     "execution_count": 41,
     "metadata": {},
     "output_type": "execute_result"
    }
   ],
   "source": [
    "A=np.ones(3)*1\n",
    "B=np.ones(3)*2\n",
    "C=np.ones(3)*3\n",
    "np.add(A,B,out=B)\n",
    "np.divide(A,2,out=A)\n",
    "np.negative(A,out=A)\n",
    "np.multiply(A,B,out=A)"
   ]
  },
  {
   "cell_type": "code",
   "execution_count": 42,
   "metadata": {},
   "outputs": [
    {
     "name": "stdout",
     "output_type": "stream",
     "text": [
      "[7.72498671 7.40368346 6.2751058  1.569299   5.14017654 8.87771418\n",
      " 8.34172903 4.74548011 6.05241256 3.55960619]\n",
      "[7. 7. 6. 1. 5. 8. 8. 4. 6. 3.]\n",
      "[7. 7. 6. 1. 5. 8. 8. 4. 6. 3.]\n",
      "[7. 7. 6. 1. 5. 8. 8. 4. 6. 3.]\n",
      "[7. 7. 6. 1. 5. 8. 8. 4. 6. 3.]\n",
      "[7 7 6 1 5 8 8 4 6 3]\n"
     ]
    }
   ],
   "source": [
    "data=np.random.uniform(0,10,10)\n",
    "print(data)\n",
    "print(data-data%1)\n",
    "print(np.trunc(data))\n",
    "print(np.floor(data))\n",
    "print(np.ceil(data)-1)\n",
    "print(data.astype(int))"
   ]
  },
  {
   "cell_type": "code",
   "execution_count": 43,
   "metadata": {},
   "outputs": [
    {
     "name": "stdout",
     "output_type": "stream",
     "text": [
      "[[0. 1. 2. 3. 4.]\n",
      " [0. 1. 2. 3. 4.]\n",
      " [0. 1. 2. 3. 4.]\n",
      " [0. 1. 2. 3. 4.]\n",
      " [0. 1. 2. 3. 4.]]\n"
     ]
    }
   ],
   "source": [
    "data=np.zeros((5,5))\n",
    "data+=np.arange(0,5)\n",
    "print(data)"
   ]
  },
  {
   "cell_type": "code",
   "execution_count": 44,
   "metadata": {},
   "outputs": [
    {
     "name": "stdout",
     "output_type": "stream",
     "text": [
      "[0. 1. 2. 3. 4. 5. 6. 7. 8. 9.]\n"
     ]
    }
   ],
   "source": [
    "def generate():\n",
    "    for x in range(0,10):\n",
    "        yield x\n",
    "data=np.fromiter(generate(),dtype=float,count=-1)\n",
    "print(data)\n"
   ]
  },
  {
   "cell_type": "code",
   "execution_count": 45,
   "metadata": {},
   "outputs": [
    {
     "name": "stdout",
     "output_type": "stream",
     "text": [
      "[0.09090909 0.18181818 0.27272727 0.36363636 0.45454545 0.54545455\n",
      " 0.63636364 0.72727273 0.81818182 0.90909091]\n"
     ]
    }
   ],
   "source": [
    "data=np.linspace(0,1,11,endpoint=False)[1:]\n",
    "print(data)"
   ]
  },
  {
   "cell_type": "code",
   "execution_count": 46,
   "metadata": {},
   "outputs": [
    {
     "name": "stdout",
     "output_type": "stream",
     "text": [
      "[0.26070707 0.3867622  0.87678257 0.18831443 0.91767842 0.01791552\n",
      " 0.34848502 0.70619875 0.11519993 0.78231137]\n",
      "[0.01791552 0.11519993 0.18831443 0.26070707 0.34848502 0.3867622\n",
      " 0.70619875 0.78231137 0.87678257 0.91767842]\n"
     ]
    }
   ],
   "source": [
    "data=np.random.random(10)\n",
    "print(data)\n",
    "data.sort()\n",
    "print(data)"
   ]
  },
  {
   "cell_type": "code",
   "execution_count": 47,
   "metadata": {},
   "outputs": [
    {
     "data": {
      "text/plain": [
       "10"
      ]
     },
     "execution_count": 47,
     "metadata": {},
     "output_type": "execute_result"
    }
   ],
   "source": [
    "data=np.arange(5)\n",
    "np.add.reduce(data)"
   ]
  },
  {
   "cell_type": "code",
   "execution_count": 48,
   "metadata": {},
   "outputs": [
    {
     "name": "stdout",
     "output_type": "stream",
     "text": [
      "False\n"
     ]
    }
   ],
   "source": [
    "data1=np.random.random(5)\n",
    "data2=np.random.random(5)\n",
    "equal=np.allclose(data1,data2)\n",
    "print(equal)"
   ]
  },
  {
   "cell_type": "code",
   "execution_count": 50,
   "metadata": {},
   "outputs": [],
   "source": [
    "data=np.arange(5)\n",
    "data.flags.writeable=False"
   ]
  },
  {
   "cell_type": "code",
   "execution_count": 51,
   "metadata": {},
   "outputs": [
    {
     "name": "stdout",
     "output_type": "stream",
     "text": [
      "[]\n",
      "1.1071487177940904\n"
     ]
    }
   ],
   "source": [
    "data=np.random.random((10,2))\n",
    "X,Y=data[:0],data[:1]\n",
    "R=np.sqrt(X**2+Y**2)\n",
    "T=np.arctan(2)\n",
    "print(R)\n",
    "print(T)"
   ]
  },
  {
   "cell_type": "code",
   "execution_count": 52,
   "metadata": {},
   "outputs": [
    {
     "name": "stdout",
     "output_type": "stream",
     "text": [
      "[1 2 3 4 5 6 7 8 0]\n"
     ]
    }
   ],
   "source": [
    "data=np.arange(1,10)\n",
    "data[data.argmax()]=0\n",
    "print(data)"
   ]
  },
  {
   "cell_type": "code",
   "execution_count": 53,
   "metadata": {},
   "outputs": [
    {
     "name": "stdout",
     "output_type": "stream",
     "text": [
      "[[(0.  , 0.  ) (0.25, 0.  ) (0.5 , 0.  ) (0.75, 0.  ) (1.  , 0.  )]\n",
      " [(0.  , 0.25) (0.25, 0.25) (0.5 , 0.25) (0.75, 0.25) (1.  , 0.25)]\n",
      " [(0.  , 0.5 ) (0.25, 0.5 ) (0.5 , 0.5 ) (0.75, 0.5 ) (1.  , 0.5 )]\n",
      " [(0.  , 0.75) (0.25, 0.75) (0.5 , 0.75) (0.75, 0.75) (1.  , 0.75)]\n",
      " [(0.  , 1.  ) (0.25, 1.  ) (0.5 , 1.  ) (0.75, 1.  ) (1.  , 1.  )]]\n"
     ]
    }
   ],
   "source": [
    "data = np.zeros((5,5), [('x',float),('y',float)])\n",
    "data['x'], data['y'] = np.meshgrid(np.linspace(0,1,5),np.linspace(0,1,5))\n",
    "print(data)"
   ]
  },
  {
   "cell_type": "code",
   "execution_count": 54,
   "metadata": {},
   "outputs": [
    {
     "name": "stdout",
     "output_type": "stream",
     "text": [
      "-131.91659501325745\n"
     ]
    }
   ],
   "source": [
    "data=np.arange(5)\n",
    "data0=data+0.5\n",
    "data1=1.0/np.subtract.outer(data,data0)\n",
    "print(np.linalg.det(data1))"
   ]
  },
  {
   "cell_type": "code",
   "execution_count": 55,
   "metadata": {},
   "outputs": [
    {
     "name": "stdout",
     "output_type": "stream",
     "text": [
      "-128\n",
      "127\n",
      "-2147483648\n",
      "2147483647\n",
      "-9223372036854775808\n",
      "9223372036854775807\n",
      "-3.4028235e+38\n",
      "3.4028235e+38\n",
      "1.1920929e-07\n",
      "-1.7976931348623157e+308\n",
      "1.7976931348623157e+308\n",
      "2.220446049250313e-16\n"
     ]
    }
   ],
   "source": [
    "for dtype in [np.int8,np.int32,np.int64]:\n",
    "    print(np.iinfo(dtype).min)\n",
    "    print(np.iinfo(dtype).max)\n",
    "for dtype in [np.float32,np.float64]:\n",
    "    print(np.finfo(dtype).min)\n",
    "    print(np.finfo(dtype).max)\n",
    "    print(np.finfo(dtype).eps)"
   ]
  },
  {
   "cell_type": "code",
   "execution_count": 62,
   "metadata": {},
   "outputs": [
    {
     "ename": "ValueError",
     "evalue": "threshold must be numeric and non-NAN, try sys.maxsize for untruncated representation",
     "output_type": "error",
     "traceback": [
      "\u001b[1;31m---------------------------------------------------------------------------\u001b[0m",
      "\u001b[1;31mValueError\u001b[0m                                Traceback (most recent call last)",
      "\u001b[1;32m<ipython-input-62-cbe97fe69086>\u001b[0m in \u001b[0;36m<module>\u001b[1;34m\u001b[0m\n\u001b[1;32m----> 1\u001b[1;33m \u001b[0mnp\u001b[0m\u001b[1;33m.\u001b[0m\u001b[0mset_printoptions\u001b[0m\u001b[1;33m(\u001b[0m\u001b[0mthreshold\u001b[0m\u001b[1;33m=\u001b[0m\u001b[0mnp\u001b[0m\u001b[1;33m.\u001b[0m\u001b[0mnan\u001b[0m\u001b[1;33m)\u001b[0m\u001b[1;33m\u001b[0m\u001b[1;33m\u001b[0m\u001b[0m\n\u001b[0m\u001b[0;32m      2\u001b[0m \u001b[0mZ\u001b[0m \u001b[1;33m=\u001b[0m \u001b[0mnp\u001b[0m\u001b[1;33m.\u001b[0m\u001b[0mzeros\u001b[0m\u001b[1;33m(\u001b[0m\u001b[1;33m(\u001b[0m\u001b[1;36m16\u001b[0m\u001b[1;33m,\u001b[0m\u001b[1;36m16\u001b[0m\u001b[1;33m)\u001b[0m\u001b[1;33m)\u001b[0m\u001b[1;33m\u001b[0m\u001b[1;33m\u001b[0m\u001b[0m\n\u001b[0;32m      3\u001b[0m \u001b[0mprint\u001b[0m \u001b[1;33m(\u001b[0m\u001b[0mZ\u001b[0m\u001b[1;33m)\u001b[0m\u001b[1;33m\u001b[0m\u001b[1;33m\u001b[0m\u001b[0m\n\u001b[0;32m      4\u001b[0m \u001b[1;31m#这题不会\u001b[0m\u001b[1;33m\u001b[0m\u001b[1;33m\u001b[0m\u001b[1;33m\u001b[0m\u001b[0m\n",
      "\u001b[1;32m~\\Anaconda3\\lib\\site-packages\\numpy\\core\\arrayprint.py\u001b[0m in \u001b[0;36mset_printoptions\u001b[1;34m(precision, threshold, edgeitems, linewidth, suppress, nanstr, infstr, formatter, sign, floatmode, **kwarg)\u001b[0m\n\u001b[0;32m    244\u001b[0m     opt = _make_options_dict(precision, threshold, edgeitems, linewidth,\n\u001b[0;32m    245\u001b[0m                              \u001b[0msuppress\u001b[0m\u001b[1;33m,\u001b[0m \u001b[0mnanstr\u001b[0m\u001b[1;33m,\u001b[0m \u001b[0minfstr\u001b[0m\u001b[1;33m,\u001b[0m \u001b[0msign\u001b[0m\u001b[1;33m,\u001b[0m \u001b[0mformatter\u001b[0m\u001b[1;33m,\u001b[0m\u001b[1;33m\u001b[0m\u001b[1;33m\u001b[0m\u001b[0m\n\u001b[1;32m--> 246\u001b[1;33m                              floatmode, legacy)\n\u001b[0m\u001b[0;32m    247\u001b[0m     \u001b[1;31m# formatter is always reset\u001b[0m\u001b[1;33m\u001b[0m\u001b[1;33m\u001b[0m\u001b[1;33m\u001b[0m\u001b[0m\n\u001b[0;32m    248\u001b[0m     \u001b[0mopt\u001b[0m\u001b[1;33m[\u001b[0m\u001b[1;34m'formatter'\u001b[0m\u001b[1;33m]\u001b[0m \u001b[1;33m=\u001b[0m \u001b[0mformatter\u001b[0m\u001b[1;33m\u001b[0m\u001b[1;33m\u001b[0m\u001b[0m\n",
      "\u001b[1;32m~\\Anaconda3\\lib\\site-packages\\numpy\\core\\arrayprint.py\u001b[0m in \u001b[0;36m_make_options_dict\u001b[1;34m(precision, threshold, edgeitems, linewidth, suppress, nanstr, infstr, sign, formatter, floatmode, legacy)\u001b[0m\n\u001b[0;32m     91\u001b[0m         \u001b[1;31m# forbid the bad threshold arg suggested by stack overflow, gh-12351\u001b[0m\u001b[1;33m\u001b[0m\u001b[1;33m\u001b[0m\u001b[1;33m\u001b[0m\u001b[0m\n\u001b[0;32m     92\u001b[0m         \u001b[1;32mif\u001b[0m \u001b[1;32mnot\u001b[0m \u001b[0misinstance\u001b[0m\u001b[1;33m(\u001b[0m\u001b[0mthreshold\u001b[0m\u001b[1;33m,\u001b[0m \u001b[0mnumbers\u001b[0m\u001b[1;33m.\u001b[0m\u001b[0mNumber\u001b[0m\u001b[1;33m)\u001b[0m \u001b[1;32mor\u001b[0m \u001b[0mnp\u001b[0m\u001b[1;33m.\u001b[0m\u001b[0misnan\u001b[0m\u001b[1;33m(\u001b[0m\u001b[0mthreshold\u001b[0m\u001b[1;33m)\u001b[0m\u001b[1;33m:\u001b[0m\u001b[1;33m\u001b[0m\u001b[1;33m\u001b[0m\u001b[0m\n\u001b[1;32m---> 93\u001b[1;33m             raise ValueError(\"threshold must be numeric and non-NAN, try \"\n\u001b[0m\u001b[0;32m     94\u001b[0m                              \"sys.maxsize for untruncated representation\")\n\u001b[0;32m     95\u001b[0m     \u001b[1;32mreturn\u001b[0m \u001b[0moptions\u001b[0m\u001b[1;33m\u001b[0m\u001b[1;33m\u001b[0m\u001b[0m\n",
      "\u001b[1;31mValueError\u001b[0m: threshold must be numeric and non-NAN, try sys.maxsize for untruncated representation"
     ]
    }
   ],
   "source": [
    "np.set_printoptions(threshold=np.nan)\n",
    "Z = np.zeros((16,16))\n",
    "print (Z)\n",
    "#这题不会"
   ]
  },
  {
   "cell_type": "code",
   "execution_count": 60,
   "metadata": {},
   "outputs": [
    {
     "name": "stdout",
     "output_type": "stream",
     "text": [
      "21\n"
     ]
    }
   ],
   "source": [
    "Z = np.arange(100)\n",
    "v = np.random.uniform(0,100)\n",
    "index = (np.abs(Z-v)).argmin()\n",
    "print (Z[index])"
   ]
  },
  {
   "cell_type": "code",
   "execution_count": null,
   "metadata": {},
   "outputs": [],
   "source": []
  }
 ],
 "metadata": {
  "kernelspec": {
   "display_name": "Python 3",
   "language": "python",
   "name": "python3"
  },
  "language_info": {
   "codemirror_mode": {
    "name": "ipython",
    "version": 3
   },
   "file_extension": ".py",
   "mimetype": "text/x-python",
   "name": "python",
   "nbconvert_exporter": "python",
   "pygments_lexer": "ipython3",
   "version": "3.7.3"
  }
 },
 "nbformat": 4,
 "nbformat_minor": 2
}
